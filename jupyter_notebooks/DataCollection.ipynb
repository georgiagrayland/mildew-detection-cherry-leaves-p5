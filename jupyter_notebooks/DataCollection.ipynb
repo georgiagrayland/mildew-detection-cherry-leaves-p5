{
  "cells": [
    {
      "cell_type": "markdown",
      "metadata": {
        "id": "0aStgWSO0E0E"
      },
      "source": [
        "# **Data Collection**"
      ]
    },
    {
      "cell_type": "markdown",
      "metadata": {
        "id": "1eLEkw5O0ECa"
      },
      "source": [
        "## Objectives\n",
        "\n",
        "* Fetch the data from Kaggle, save as raw data in workspace, and prepare it for further processing. \n",
        "\n",
        "## Inputs\n",
        "\n",
        "* Kaggle JSON file - authentication token\n",
        "\n",
        "## Outputs\n",
        "\n",
        "* Generate Dataset - inputs/cherryleaves_dataset/leaf_images\n",
        "\n",
        "## Additional Comments\n",
        "\n",
        "* As the notebooks are stored in a subfolder, when running the notebook in an editor the working directory will have to be changed from the current folder to the parent folder. \n",
        "* The current directory will be accessed with os.getcwd()\n",
        "\n"
      ]
    },
    {
      "cell_type": "markdown",
      "metadata": {
        "id": "9uWZXH9LwoQg"
      },
      "source": [
        "---"
      ]
    },
    {
      "source": [
        "# Import Packages"
      ],
      "cell_type": "markdown",
      "metadata": {}
    },
    {
      "source": [
        "# import numpy\n",
        "# import os "
      ],
      "cell_type": "code",
      "metadata": {
        "id": "cqP-UeN-z3i2"
      },
      "execution_count": null,
      "outputs": []
    },
    {
      "source": [
        "## Change working Directory "
      ],
      "cell_type": "markdown",
      "metadata": {}
    },
    {
      "cell_type": "markdown",
      "metadata": {
        "id": "aOGIGS-uz3i2"
      },
      "source": [
        "We need to change the working directory from its current folder to its parent folder\n",
        "* We access the current directory with os.getcwd()"
      ]
    },
    {
      "cell_type": "code",
      "execution_count": null,
      "metadata": {
        "id": "wZfF_j-Bz3i4",
        "outputId": "66943449-1436-4c3d-85c7-b85f9f78349b"
      },
      "outputs": [],
      "source": [
        "import os\n",
        "current_dir = os.getcwd()\n",
        "current_dir"
      ]
    },
    {
      "cell_type": "markdown",
      "metadata": {
        "id": "9MWW8E7lz3i7"
      },
      "source": [
        "We want to make the parent of the current directory the new current directory\n",
        "* os.path.dirname() gets the parent directory\n",
        "* os.chir() defines the new current directory"
      ]
    },
    {
      "cell_type": "code",
      "execution_count": null,
      "metadata": {
        "id": "TwHsQRWjz3i9",
        "outputId": "86849db3-cd2f-4cc5-ebb8-2d0caafa1a2c"
      },
      "outputs": [],
      "source": [
        "os.chdir(os.path.dirname(current_dir))\n",
        "print(\"You set a new current directory\")"
      ]
    },
    {
      "cell_type": "markdown",
      "metadata": {
        "id": "M_xPk_Ijz3i-"
      },
      "source": [
        "Confirm the new current directory"
      ]
    },
    {
      "cell_type": "code",
      "execution_count": null,
      "metadata": {
        "id": "vz3S-_kjz3jA",
        "outputId": "00b79ae4-75d0-4a96-d193-ac9ef9847ea2"
      },
      "outputs": [],
      "source": [
        "current_dir = os.getcwd()\n",
        "current_dir"
      ]
    },
    {
      "cell_type": "code",
      "execution_count": null,
      "metadata": {},
      "outputs": [],
      "source": [
        "# import os\n",
        "# try:\n",
        "    # create here your folder\n",
        "    # os.makedirs(name='')\n",
        "# except Exception as e:\n",
        "    # print(e)"
      ]
    },
    {
      "cell_type": "markdown",
      "metadata": {
        "id": "-mavJ8DibrcQ"
      },
      "source": [
        "# Install Kaggle"
      ]
    },
    {
      "source": [
        "# install the kaggle package with pip\n"
      ],
      "cell_type": "code",
      "metadata": {},
      "execution_count": null,
      "outputs": []
    },
    {
      "cell_type": "markdown",
      "metadata": {
        "id": "ZY3l0-AxO93d"
      },
      "source": [
        "Kaggle Configuration\n"
      ]
    },
    {
      "source": [
        "# os.environ[]\n"
      ],
      "cell_type": "code",
      "metadata": {
        "id": "uFQo3ycuO-v6"
      },
      "execution_count": null,
      "outputs": []
    },
    {
      "source": [
        "Set Kaggle Dataset and download it"
      ],
      "cell_type": "markdown",
      "metadata": {}
    },
    {
      "source": [
        "# KaggleDatasetPath = \"codeinstitute/cherry-leaves\"\n",
        "# DestinationFolder = \"inputs/cherryleaves_dataset\"  CHECK\"\n",
        "# ! kaggle datasets download -d {KaggleDatasetPath} -p {DestinationFolder}"
      ],
      "cell_type": "code",
      "metadata": {},
      "execution_count": null,
      "outputs": []
    },
    {
      "cell_type": "markdown",
      "metadata": {},
      "source": [
        "* Unzip the downloaded data file, delete the zip file"
      ]
    },
    {
      "source": [
        "# import zipfile etc "
      ],
      "cell_type": "code",
      "metadata": {},
      "execution_count": null,
      "outputs": []
    },
    {
      "cell_type": "markdown",
      "metadata": {},
      "source": []
    },
    {
      "cell_type": "markdown",
      "metadata": {},
      "source": [
        "---\n",
        "# Data Preparation\n",
        "---"
      ]
    },
    {
      "source": [
        "## Data Cleaning \n",
        "\n",
        "### Check and Remove non-image files\n",
        "\n",
        "* Check for, and remove non image files that do not have an extension finishing with png, jpg, or jpeg"
      ],
      "cell_type": "markdown",
      "metadata": {}
    },
    {
      "cell_type": "code",
      "execution_count": null,
      "metadata": {},
      "outputs": [],
      "source": [
        "# def remove non_image_file(my_data_dir)\n",
        "# rest of function"
      ]
    },
    {
      "cell_type": "code",
      "execution_count": null,
      "metadata": {},
      "outputs": [],
      "source": [
        "# remove non_image_file(my_data_dir='inputs/cherry_leaves' ect CHANGE)"
      ]
    },
    {
      "source": [
        "## Split the Data: Train, Validation, Test Sets  "
      ],
      "cell_type": "markdown",
      "metadata": {}
    },
    {
      "cell_type": "code",
      "execution_count": null,
      "metadata": {},
      "outputs": [],
      "source": [
        "# import os\n",
        "# import shutil\n",
        "# import random\n",
        "# import joblib\n",
        "\n",
        "# function for splitting"
      ]
    },
    {
      "source": [
        "The data is split into:\n",
        "\n",
        "* A training set (70%)\n",
        "* A validation set (10%)\n",
        "* A test set (20%)\n"
      ],
      "cell_type": "markdown",
      "metadata": {}
    },
    {
      "cell_type": "code",
      "execution_count": null,
      "metadata": {},
      "outputs": [],
      "source": [
        "# split_train_validation_test_images(my_data_dir=f\"inputs/malaria_dataset/cell_images\",\n",
        "                                   # etc "
      ]
    },
    {
      "cell_type": "markdown",
      "metadata": {
        "id": "ltNetd085qHf"
      },
      "source": [
        "### Conclusions and Next Steps "
      ]
    },
    {
      "cell_type": "markdown",
      "metadata": {},
      "source": [
        "* The data has been downloaded for analysis\n",
        "* There are now 3 separate folders in the inputs/cherryleaves_dataset/leaf_images where the train, validation, and test sets are stored\n",
        "* The next steps will be to visualise and augment the data to further prepare it for modelling"
      ]
    }
  ],
  "metadata": {
    "accelerator": "GPU",
    "colab": {
      "name": "Data Practitioner Jupyter Notebook.ipynb",
      "provenance": [],
      "toc_visible": true
    },
    "interpreter": {
      "hash": "8b8334dab9339717f727a1deaf837b322d7a41c20d15cc86be99a8e69ceec8ce"
    },
    "kernelspec": {
      "display_name": "Python 3.8.12 64-bit ('3.8.12': pyenv)",
      "name": "python3"
    },
    "language_info": {
      "codemirror_mode": {
        "name": "ipython",
        "version": 3
      },
      "file_extension": ".py",
      "mimetype": "text/x-python",
      "name": "python",
      "nbconvert_exporter": "python",
      "pygments_lexer": "ipython3",
      "version": "3.8.12"
    },
    "orig_nbformat": 2
  },
  "nbformat": 4,
  "nbformat_minor": 2
}