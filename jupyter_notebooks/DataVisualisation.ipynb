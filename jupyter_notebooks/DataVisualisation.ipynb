{
  "cells": [
    {
      "cell_type": "markdown",
      "metadata": {
        "id": "0aStgWSO0E0E"
      },
      "source": [
        "# **Data Visualisation** "
      ]
    },
    {
      "cell_type": "markdown",
      "metadata": {
        "id": "1eLEkw5O0ECa"
      },
      "source": [
        "## Objectives\n",
        "\n",
        "Answer **business requirement 1:**\n",
        "- The client is interested in conducting a study to visually differentiate the differences between average healthy and average powdery mildew cherry leaves. \n",
        "\n",
        "## Inputs\n",
        "\n",
        "* inputs/cherryleaves_dataset/leaf_images/train \n",
        "* inputs/cherryleaves_dataset/leaf_images/validation\n",
        "* inputs/cherryleaves_dataset/leaf_images/test \n",
        "\n",
        "## Outputs\n",
        "\n",
        "* Image shape embeddings pickle file.\n",
        "* Mean and variability of images per label plot.\n",
        "* Plot to distinuish the contrast between healthy and powdery mildew infected leaves.\n",
        "* Generate code that answers business requirment 1 and can be used to build an image montage to be displayed on the dashboard. \n",
        "\n",
        "\n"
      ]
    },
    {
      "cell_type": "markdown",
      "metadata": {
        "id": "9uWZXH9LwoQg"
      },
      "source": [
        "## Import Libraries "
      ]
    },
    {
      "source": [
        "# import os\n",
        "# import pandas as pd\n",
        "import numpy as np\n",
        "import matplotlib.pyplot as plt\n",
        "import seaborn as sns\n",
        "import joblib\n",
        "sns.set_style(\"white\") # CHANGE STYLE \n",
        "from matplotlib.image import imread"
      ],
      "cell_type": "code",
      "metadata": {},
      "execution_count": null,
      "outputs": []
    },
    {
      "cell_type": "markdown",
      "metadata": {
        "id": "cqP-UeN-z3i2"
      },
      "source": [
        "# Set working directory"
      ]
    },
    {
      "cell_type": "markdown",
      "metadata": {
        "id": "aOGIGS-uz3i2"
      },
      "source": [
        "We need to change the working directory from its current folder to its parent folder\n",
        "* We access the current directory with os.getcwd()"
      ]
    },
    {
      "cell_type": "code",
      "execution_count": null,
      "metadata": {
        "id": "wZfF_j-Bz3i4",
        "outputId": "66943449-1436-4c3d-85c7-b85f9f78349b"
      },
      "outputs": [],
      "source": [
        "import os\n",
        "current_dir = os.getcwd()\n",
        "current_dir"
      ]
    },
    {
      "cell_type": "markdown",
      "metadata": {
        "id": "9MWW8E7lz3i7"
      },
      "source": [
        "Setting new directory "
      ]
    },
    {
      "cell_type": "code",
      "execution_count": null,
      "metadata": {
        "id": "TwHsQRWjz3i9",
        "outputId": "86849db3-cd2f-4cc5-ebb8-2d0caafa1a2c"
      },
      "outputs": [],
      "source": [
        "os.chdir(os.path.dirname(current_dir))\n",
        "print(\"You set a new current directory\")"
      ]
    },
    {
      "cell_type": "markdown",
      "metadata": {
        "id": "M_xPk_Ijz3i-"
      },
      "source": [
        "Confirm the new current directory"
      ]
    },
    {
      "cell_type": "code",
      "execution_count": null,
      "metadata": {
        "id": "vz3S-_kjz3jA",
        "outputId": "00b79ae4-75d0-4a96-d193-ac9ef9847ea2"
      },
      "outputs": [],
      "source": [
        "current_dir = os.getcwd() # work_dir = os.getced()\n",
        "current_dir"
      ]
    },
    {
      "source": [
        "## Set inputs directories \n",
        "\n",
        "### Set train, validation, and test paths "
      ],
      "cell_type": "markdown",
      "metadata": {}
    },
    {
      "cell_type": "code",
      "execution_count": null,
      "metadata": {},
      "outputs": [],
      "source": [
        "# my_data_dir = 'inputs/cherryleaves_dataset/leaf_images'\n",
        "# train_path = my_data_dir + '/train'\n",
        "# val_path = my_data_dir + '/validation'\n",
        "# test_path = my_data_dir + '/test'"
      ]
    },
    {
      "source": [
        "### Set output directory "
      ],
      "cell_type": "markdown",
      "metadata": {}
    },
    {
      "cell_type": "code",
      "execution_count": null,
      "metadata": {},
      "outputs": [],
      "source": [
        "# version = 'v1'\n",
        "# file_path = etc "
      ]
    },
    {
      "source": [
        "### Set label names "
      ],
      "cell_type": "markdown",
      "metadata": {}
    },
    {
      "cell_type": "code",
      "execution_count": null,
      "metadata": {},
      "outputs": [],
      "source": [
        "# set the labels\n",
        "# labels = os.listdir()\n",
        "# print()"
      ]
    },
    {
      "cell_type": "markdown",
      "metadata": {
        "id": "-mavJ8DibrcQ"
      },
      "source": [
        "---\n",
        "# Data Visualisation of Image Data \n",
        "---"
      ]
    },
    {
      "cell_type": "markdown",
      "metadata": {},
      "source": [
        "## Image Shape \n",
        "\n",
        "Calculate average images size on train set:"
      ]
    },
    {
      "cell_type": "code",
      "execution_count": null,
      "metadata": {},
      "outputs": [],
      "source": [
        "# dim1, dim2 = [], []\n",
        "# for label in labels:\n",
        "# etc "
      ]
    },
    {
      "cell_type": "code",
      "execution_count": null,
      "metadata": {},
      "outputs": [],
      "source": [
        "# image_shape = ()\n",
        "# image_shape "
      ]
    },
    {
      "source": [
        "Images are 256 x 256 pixels. They must be reduced to a size of 50 x 50 pixels each (?), in order to stay in line with file storage restrictions. \n",
        "\n",
        "Save image shape embeddings:"
      ],
      "cell_type": "markdown",
      "metadata": {}
    },
    {
      "cell_type": "code",
      "execution_count": null,
      "metadata": {},
      "outputs": [],
      "source": [
        "# joblib.dump(value=iamge_shape)\n",
        "# etc "
      ]
    },
    {
      "cell_type": "markdown",
      "metadata": {
        "id": "ZY3l0-AxO93d"
      },
      "source": [
        "---"
      ]
    },
    {
      "cell_type": "markdown",
      "metadata": {
        "id": "uFQo3ycuO-v6"
      },
      "source": [
        "# Average and Variability of Images per Label \n",
        "\n",
        "* Function to load images in an array (tensor).\n",
        "* Utilised image module of tensorflow keras library. "
      ]
    },
    {
      "cell_type": "code",
      "execution_count": null,
      "metadata": {},
      "outputs": [],
      "source": [
        "# from tensorflow.keras.processing.preprocessing import image \n",
        "\n",
        "# def load_image_as_array()\n",
        "\"\"\"\n",
        "In this function, two arrays are created, one with images and the other with labels,\n",
        "in order to analuse the preprocessed images. \n",
        "\"\"\"\n",
        "\n",
        "# X, y = np.appary[]"
      ]
    },
    {
      "source": [
        "### Load image shapes and labels in an array "
      ],
      "cell_type": "markdown",
      "metadata": {}
    },
    {
      "cell_type": "code",
      "execution_count": null,
      "metadata": {},
      "outputs": [],
      "source": [
        "# X, y = \n",
        "# etc "
      ]
    },
    {
      "source": [
        "###  Plot and save mean and variability of images per label:\n"
      ],
      "cell_type": "markdown",
      "metadata": {}
    },
    {
      "cell_type": "code",
      "execution_count": null,
      "metadata": {},
      "outputs": [],
      "source": [
        "# def plot_mean_variability_per_labels()\n",
        "\"\"\"\n",
        "ADD Doctstrings ALL functions \n",
        "\"\"\"\n",
        "# etc "
      ]
    },
    {
      "cell_type": "code",
      "execution_count": null,
      "metadata": {},
      "outputs": [],
      "source": [
        "# plot_mean_variability_per_labels(X=X, y=y, figsize=(12,5),save_image=True)"
      ]
    },
    {
      "cell_type": "markdown",
      "metadata": {},
      "source": [
        "---\n",
        "## Difference between average healthy and average powdery mildew-infected leaf images \n",
        "---\n",
        "\n",
        "This function plots the average image of healthy leaves, the average image of powdery mildew-infected leaves, and the average difference between the two images. "
      ]
    },
    {
      "cell_type": "code",
      "execution_count": null,
      "metadata": {},
      "outputs": [],
      "source": [
        "# def subset_image_label(X, y, label_to_display):\n",
        "\"\"\"\n",
        "Add docstring\n",
        "\"\"\"\n",
        "    # y = y.reshape(-1, 1, 1)\n",
        "    boolean_mask = np.any(y == label_to_display, axis=1).reshape(-1)\n",
        "    df = X[boolean_mask]\n",
        "    return df\n",
        "\n",
        "    # etc\n"
      ]
    },
    {
      "cell_type": "code",
      "execution_count": null,
      "metadata": {},
      "outputs": [],
      "source": [
        "# diff_bet_avg_image_labels_data_as_array()\n",
        "# call function "
      ]
    },
    {
      "source": [
        "---\n",
        "## Image Montage\n",
        "\n",
        "- **Business requirement 1** includes an image montage for each class. \n",
        "- The below function creates a montage of healthy or infected leaves for display on the dashboard.\n"
      ],
      "cell_type": "markdown",
      "metadata": {}
    },
    {
      "cell_type": "code",
      "execution_count": null,
      "metadata": {},
      "outputs": [],
      "source": [
        "# import itertools\n",
        "# import random\n",
        "# sns.set_style(CHOOSE STYLE NOT WHITE)\n",
        "\n",
        "# def image_montage()\n",
        "\"\"\"\n",
        "Add docstring\n",
        "\"\"\"\n",
        "# \n",
        "# \n",
        "# else:"
      ]
    },
    {
      "source": [
        "Run Montage in all labels:"
      ],
      "cell_type": "markdown",
      "metadata": {}
    },
    {
      "cell_type": "code",
      "execution_count": null,
      "metadata": {},
      "outputs": [],
      "source": [
        "# for label in labels:\n"
      ]
    },
    {
      "cell_type": "markdown",
      "metadata": {},
      "source": [
        "---"
      ]
    },
    {
      "cell_type": "markdown",
      "metadata": {},
      "source": [
        "---\n",
        "## Conclusions & Next Steps\n",
        "\n",
        "* The average and variability of images of healthy and infected leaves has been plotted. \n",
        "* The differenecs between the averages of both types of leaves has been calculated. \n",
        "* An image montage of both types of leaves has been created. \n",
        "* These meet business requirement 1. \n",
        "\n",
        "* The next steps will be to create the Machine Learning System that can predict whether a leaf is healthy or contains the powdery mildew infection. \n",
        "* A Neural Network wil be created to map the relationships between fetures and labels "
      ]
    },
    {
      "cell_type": "markdown",
      "metadata": {},
      "source": [
        "---"
      ]
    },
    {
      "cell_type": "code",
      "execution_count": null,
      "metadata": {
        "id": "aKlnIozA4eQO",
        "outputId": "fd09bc1f-adb1-4511-f6ce-492a6af570c0"
      },
      "outputs": [],
      "source": [
        "import os\n",
        "try:\n",
        "    # create here your folder\n",
        "    # os.makedirs(name='')\n",
        "except Exception as e:\n",
        "    print(e)\n"
      ]
    }
  ],
  "metadata": {
    "accelerator": "GPU",
    "colab": {
      "name": "Data Practitioner Jupyter Notebook.ipynb",
      "provenance": [],
      "toc_visible": true
    },
    "interpreter": {
      "hash": "8b8334dab9339717f727a1deaf837b322d7a41c20d15cc86be99a8e69ceec8ce"
    },
    "kernelspec": {
      "display_name": "Python 3.8.12 64-bit ('3.8.12': pyenv)",
      "name": "python3"
    },
    "language_info": {
      "codemirror_mode": {
        "name": "ipython",
        "version": 3
      },
      "file_extension": ".py",
      "mimetype": "text/x-python",
      "name": "python",
      "nbconvert_exporter": "python",
      "pygments_lexer": "ipython3",
      "version": "3.8.12"
    },
    "orig_nbformat": 2
  },
  "nbformat": 4,
  "nbformat_minor": 2
}